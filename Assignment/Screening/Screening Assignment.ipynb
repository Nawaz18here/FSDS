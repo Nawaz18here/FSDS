{
 "cells": [
  {
   "cell_type": "markdown",
   "id": "80c714a1",
   "metadata": {},
   "source": [
    "# Python Screening Assignment"
   ]
  },
  {
   "cell_type": "code",
   "execution_count": null,
   "id": "349ce787",
   "metadata": {},
   "outputs": [],
   "source": []
  },
  {
   "cell_type": "markdown",
   "id": "d139cc98",
   "metadata": {},
   "source": [
    "# 1. Create a function in python to read the text file and replace specific content of the file.\n"
   ]
  },
  {
   "cell_type": "markdown",
   "id": "af19c9bb",
   "metadata": {},
   "source": [
    "***File name:  example.txt\n",
    "Origin file content : This is a placement assignment\n",
    "Replace string \"Placement' should be replaced by 'screening'\n",
    "Replaced file content: This is a screening assignment"
   ]
  },
  {
   "cell_type": "code",
   "execution_count": null,
   "id": "c70bcf62",
   "metadata": {},
   "outputs": [],
   "source": []
  },
  {
   "cell_type": "code",
   "execution_count": 3,
   "id": "1c08c1de",
   "metadata": {},
   "outputs": [],
   "source": [
    "with open('example.txt', \"w\") as f:\n",
    "    f.write(\"This is a placement assignment\")"
   ]
  },
  {
   "cell_type": "code",
   "execution_count": 4,
   "id": "90dbc030",
   "metadata": {},
   "outputs": [
    {
     "name": "stdout",
     "output_type": "stream",
     "text": [
      "This is a placement assignment"
     ]
    }
   ],
   "source": [
    "with open('example.txt', \"r\") as f:\n",
    "    for line in f:\n",
    "        print(line, end = '')"
   ]
  },
  {
   "cell_type": "code",
   "execution_count": 5,
   "id": "d5d58d3f",
   "metadata": {},
   "outputs": [],
   "source": [
    "def replace_string(file):\n",
    "    file = open(file, 'r')\n",
    "    file = file.read()\n",
    "    file = file.replace('placement', 'screening')\n",
    "    print(file)\n"
   ]
  },
  {
   "cell_type": "code",
   "execution_count": 6,
   "id": "f0732f5c",
   "metadata": {},
   "outputs": [
    {
     "name": "stdout",
     "output_type": "stream",
     "text": [
      "This is a screening assignment\n"
     ]
    }
   ],
   "source": [
    "replace_string('example.txt')"
   ]
  },
  {
   "cell_type": "code",
   "execution_count": null,
   "id": "35dc21f7",
   "metadata": {},
   "outputs": [],
   "source": []
  },
  {
   "cell_type": "markdown",
   "id": "cd10d835",
   "metadata": {},
   "source": [
    "# 2. Demonstrate use of abstract class, multiple inheritance and decorator in python using examples."
   ]
  },
  {
   "cell_type": "markdown",
   "id": "9cbd4a57",
   "metadata": {},
   "source": [
    "A class is called abstract class only if it has at least one abstract method.\n",
    "Abstract method is a method which only has declaration and doesn't have definition.\n",
    "\n",
    "Python by default doesn't support abstract class and abstract method,\n",
    "so there is a package called ABC(abstract base classes) by which we can make a class or method abstract."
   ]
  },
  {
   "cell_type": "code",
   "execution_count": 7,
   "id": "a395390f",
   "metadata": {},
   "outputs": [],
   "source": [
    "from abc import ABC, abstractmethod\n",
    " \n",
    "class Shape(ABC):\n",
    "    def __init__(self, shape_name):\n",
    "        self.shape_name = shape_name\n",
    "    \n",
    "    @abstractmethod\n",
    "    def draw(self):\n",
    "        pass"
   ]
  },
  {
   "cell_type": "code",
   "execution_count": 8,
   "id": "b0b9c90f",
   "metadata": {},
   "outputs": [],
   "source": [
    "class Circle(Shape):\n",
    "    def __init__(self):\n",
    "        super().__init__(\"circle\")\n",
    " \n",
    "    def draw(self):\n",
    "        print(\"Drawing a Circle\")"
   ]
  },
  {
   "cell_type": "code",
   "execution_count": 9,
   "id": "5bb26919",
   "metadata": {},
   "outputs": [
    {
     "name": "stdout",
     "output_type": "stream",
     "text": [
      "Drawing a Circle\n"
     ]
    }
   ],
   "source": [
    "#create a circle object\n",
    "circle = Circle()\n",
    "circle.draw()"
   ]
  },
  {
   "cell_type": "code",
   "execution_count": null,
   "id": "dd7921df",
   "metadata": {},
   "outputs": [],
   "source": []
  },
  {
   "cell_type": "markdown",
   "id": "81f5b1e8",
   "metadata": {},
   "source": [
    "***Decorator Function***\n",
    "\n",
    "*A decorator function is a function that takes another function as as argument, add some kind of functionality to it and return another function. All of this without altering the source code of the original function you passed in."
   ]
  },
  {
   "cell_type": "code",
   "execution_count": 10,
   "id": "a81fc68e",
   "metadata": {},
   "outputs": [],
   "source": [
    "def decorator_func(func):\n",
    "    \n",
    "    def wrapper_func():\n",
    "        print(\"Wrapper_func Worked\")\n",
    "        return func()\n",
    "    \n",
    "    print(\"Decorator_func Worked\")\n",
    "    return wrapper_func()\n"
   ]
  },
  {
   "cell_type": "code",
   "execution_count": 11,
   "id": "36161b6b",
   "metadata": {},
   "outputs": [
    {
     "name": "stdout",
     "output_type": "stream",
     "text": [
      "Decorator_func Worked\n",
      "Wrapper_func Worked\n",
      "Display Worked\n"
     ]
    }
   ],
   "source": [
    "@decorator_func\n",
    "def display():\n",
    "    print(\"Display Worked\")\n"
   ]
  },
  {
   "cell_type": "code",
   "execution_count": null,
   "id": "03adff69",
   "metadata": {},
   "outputs": [],
   "source": []
  },
  {
   "cell_type": "markdown",
   "id": "e2452ec0",
   "metadata": {},
   "source": [
    "***INHERITANCE\n",
    "\n",
    "Inherite all the properties from parent into child class and that child class can access all data members and function defined in parent class\n",
    "\n",
    "\n",
    "#Example of Multiple Inheritance is mentioned below in which Child class can access the method from multiple parent class.\n"
   ]
  },
  {
   "cell_type": "code",
   "execution_count": 12,
   "id": "391db8d6",
   "metadata": {},
   "outputs": [],
   "source": [
    "class Father:\n",
    "    \n",
    "    def __init__(self,name):\n",
    "        self.name= name\n",
    "        \n",
    "    def father_func(self):\n",
    "        print(f\"This is under Father Class\")\n",
    "\n",
    "        \n",
    "class Mother:\n",
    "    \n",
    "    def __init__(self,name):\n",
    "        self.name= name\n",
    "        \n",
    "    def mother_func(self):\n",
    "        print(f\"This is under Mother Class\")\n",
    "\n",
    "        \n",
    "#Child class inheriting both Father and Mother Class\n",
    "class Child(Father,Mother):\n",
    "    def __init__(self,name):\n",
    "        self.name= name\n",
    "    "
   ]
  },
  {
   "cell_type": "code",
   "execution_count": 13,
   "id": "92670548",
   "metadata": {},
   "outputs": [
    {
     "name": "stdout",
     "output_type": "stream",
     "text": [
      "This is under Mother Class\n",
      "This is under Father Class\n"
     ]
    }
   ],
   "source": [
    "c= Child(\"Arish\")\n",
    "c.mother_func()\n",
    "c.father_func()"
   ]
  },
  {
   "cell_type": "code",
   "execution_count": null,
   "id": "c3c554bf",
   "metadata": {},
   "outputs": [],
   "source": []
  },
  {
   "cell_type": "code",
   "execution_count": null,
   "id": "7af49505",
   "metadata": {},
   "outputs": [],
   "source": []
  }
 ],
 "metadata": {
  "kernelspec": {
   "display_name": "Python 3 (ipykernel)",
   "language": "python",
   "name": "python3"
  },
  "language_info": {
   "codemirror_mode": {
    "name": "ipython",
    "version": 3
   },
   "file_extension": ".py",
   "mimetype": "text/x-python",
   "name": "python",
   "nbconvert_exporter": "python",
   "pygments_lexer": "ipython3",
   "version": "3.9.7"
  }
 },
 "nbformat": 4,
 "nbformat_minor": 5
}
