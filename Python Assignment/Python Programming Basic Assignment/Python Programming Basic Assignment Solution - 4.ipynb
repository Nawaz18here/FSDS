{
 "cells": [
  {
   "cell_type": "markdown",
   "metadata": {},
   "source": [
    "# Python Programming Basic Assignment Solution - 4"
   ]
  },
  {
   "cell_type": "code",
   "execution_count": null,
   "metadata": {},
   "outputs": [],
   "source": []
  },
  {
   "cell_type": "markdown",
   "metadata": {},
   "source": [
    "# 1. Write a Python Program to Find the Factorial of a Number?"
   ]
  },
  {
   "cell_type": "code",
   "execution_count": 42,
   "metadata": {
    "scrolled": true
   },
   "outputs": [
    {
     "name": "stdout",
     "output_type": "stream",
     "text": [
      "Enter number to find the factorial: 7\n",
      "5040\n"
     ]
    }
   ],
   "source": [
    "n=int(input(\"Enter number to find the factorial: \"))\n",
    "i=1\n",
    "temp=1\n",
    "if n>0:\n",
    "    while i<=n:\n",
    "        temp=temp*i\n",
    "        i+=1\n",
    "    print(temp)\n",
    "else:\n",
    "    print(\"Enter positive No!\")"
   ]
  },
  {
   "cell_type": "code",
   "execution_count": null,
   "metadata": {},
   "outputs": [],
   "source": []
  },
  {
   "cell_type": "markdown",
   "metadata": {},
   "source": [
    "# 2.\tWrite a Python Program to Display the multiplication Table?"
   ]
  },
  {
   "cell_type": "code",
   "execution_count": 21,
   "metadata": {},
   "outputs": [
    {
     "name": "stdout",
     "output_type": "stream",
     "text": [
      "Display multiplication table of : 8\n",
      "8 * 1 = 8\n",
      "8 * 2 = 8\n",
      "8 * 3 = 8\n",
      "8 * 4 = 8\n",
      "8 * 5 = 8\n",
      "8 * 6 = 8\n",
      "8 * 7 = 8\n",
      "8 * 8 = 8\n",
      "8 * 9 = 8\n",
      "8 * 10 = 8\n"
     ]
    }
   ],
   "source": [
    "n=int(input(\"Display multiplication table of : \"))\n",
    "i2=10\n",
    "for i in range(1,11):\n",
    "    print(n, \"*\", i , \"=\", n*1)"
   ]
  },
  {
   "cell_type": "code",
   "execution_count": null,
   "metadata": {},
   "outputs": [],
   "source": []
  },
  {
   "cell_type": "markdown",
   "metadata": {},
   "source": [
    "# 3.\tWrite a Python Program to Print the Fibonacci sequence?"
   ]
  },
  {
   "cell_type": "code",
   "execution_count": 93,
   "metadata": {},
   "outputs": [
    {
     "name": "stdout",
     "output_type": "stream",
     "text": [
      "Enter number upto which you want to print Fibonaci sequence: 50\n",
      "0\n",
      "1\n",
      "1\n",
      "2\n",
      "3\n",
      "5\n",
      "8\n",
      "13\n",
      "21\n",
      "34\n"
     ]
    }
   ],
   "source": [
    "#The Fibonacci numbers are the numbers in the following \n",
    "#integer sequence.0, 1, 1, 2, 3, 5, 8, 13, 21, 34, 55, 89, 144, …\n",
    "\n",
    "num=int(input(\"Enter number upto which you want to print Fibonaci sequence: \"))\n",
    "n1=0\n",
    "n2=1\n",
    "sum=0\n",
    "if num<0:\n",
    "    print(\"Enter positive number!\")\n",
    "elif num>0:\n",
    "    while n1<=num:\n",
    "        print(n1)\n",
    "        sum=n1+n2\n",
    "        n1=n2\n",
    "        n2=sum\n",
    "else:\n",
    "    print(\"Enter valid number!\")"
   ]
  },
  {
   "cell_type": "code",
   "execution_count": null,
   "metadata": {},
   "outputs": [],
   "source": []
  },
  {
   "cell_type": "code",
   "execution_count": 92,
   "metadata": {},
   "outputs": [
    {
     "name": "stdout",
     "output_type": "stream",
     "text": [
      "Enter number upto which number of terms you want to print Fibonaci sequence: 10\n",
      "Fibonaci sequence\n",
      "0\n",
      "1\n",
      "1\n",
      "2\n",
      "3\n",
      "5\n",
      "8\n",
      "13\n",
      "21\n",
      "34\n"
     ]
    }
   ],
   "source": [
    "#ALTERNATE SOLUTION:\n",
    "\n",
    "step=int(input(\"Enter number upto which number of terms you want to print Fibonaci sequence: \"))\n",
    "\n",
    "n1=0\n",
    "n2=1\n",
    "count=0\n",
    "\n",
    "if step==1:\n",
    "    print(\"Fibonaci sequence\",n1)\n",
    "elif step>1:\n",
    "    print(\"Fibonaci sequence\")\n",
    "    while count<step:\n",
    "        print(n1)\n",
    "        sum=n1+n2\n",
    "        n1=n2\n",
    "        n2=sum\n",
    "        count+=1\n",
    "else:\n",
    "    print(\"Enter valid number of terms\")"
   ]
  },
  {
   "cell_type": "code",
   "execution_count": null,
   "metadata": {},
   "outputs": [],
   "source": []
  },
  {
   "cell_type": "markdown",
   "metadata": {},
   "source": [
    "# 4. Write a Python Program to Check Armstrong Number?"
   ]
  },
  {
   "cell_type": "code",
   "execution_count": 30,
   "metadata": {},
   "outputs": [
    {
     "name": "stdout",
     "output_type": "stream",
     "text": [
      "Enter number to check whether its a armstrong number or not: 153\n",
      "Given number 153 is a armstrong number\n"
     ]
    }
   ],
   "source": [
    "#Armstrong number is a number that is equal to the sum of cubes of its digits. \n",
    "\n",
    "num=int(input(\"Enter number to check whether its a armstrong number or not: \"))\n",
    "temp=num\n",
    "sum=0\n",
    "order=len(str(num))\n",
    "\n",
    "while temp>0:\n",
    "    digit= temp%10\n",
    "    sum+=(digit)**(order)\n",
    "    temp= temp//10\n",
    "    \n",
    "if sum==num:\n",
    "    print(\"Given number\",num,\"is a armstrong number\")\n",
    "else:\n",
    "    print(\"Given number\",num,\"is not a armstrong number\")\n"
   ]
  },
  {
   "cell_type": "code",
   "execution_count": null,
   "metadata": {},
   "outputs": [],
   "source": []
  },
  {
   "cell_type": "markdown",
   "metadata": {},
   "source": [
    "# 5.\tWrite a Python Program to Find Armstrong Number in an Interval?"
   ]
  },
  {
   "cell_type": "code",
   "execution_count": null,
   "metadata": {},
   "outputs": [],
   "source": []
  },
  {
   "cell_type": "code",
   "execution_count": 43,
   "metadata": {},
   "outputs": [
    {
     "name": "stdout",
     "output_type": "stream",
     "text": [
      "Enter lower limit: 150\n",
      "Enter upper limit: 8210\n",
      "Series of armstrong number in the range of 150 and 8210 : \n"
     ]
    },
    {
     "data": {
      "text/plain": [
       "[153, 370, 371, 407, 1634, 8208]"
      ]
     },
     "execution_count": 43,
     "metadata": {},
     "output_type": "execute_result"
    }
   ],
   "source": [
    "m=int(input(\"Enter lower limit: \"))\n",
    "n=int(input(\"Enter upper limit: \"))\n",
    "l=[]\n",
    "for i in range(m,n+1):\n",
    "    \n",
    "    order=len(str(i))\n",
    "    temp=i\n",
    "    sum=0\n",
    "    while temp>0:\n",
    "        digit= temp%10\n",
    "        sum+=(digit)**(order)\n",
    "        temp= temp//10\n",
    "\n",
    "    if sum==i:\n",
    "        l.append(i)\n",
    "print(\"Series of armstrong number in the range of\", m, \"and\", n, \": \")\n",
    "l\n"
   ]
  },
  {
   "cell_type": "code",
   "execution_count": null,
   "metadata": {},
   "outputs": [],
   "source": []
  },
  {
   "cell_type": "code",
   "execution_count": null,
   "metadata": {},
   "outputs": [],
   "source": []
  },
  {
   "cell_type": "markdown",
   "metadata": {},
   "source": [
    "# 6.\tWrite a Python Program to Find the Sum of Natural Numbers?"
   ]
  },
  {
   "cell_type": "code",
   "execution_count": 17,
   "metadata": {},
   "outputs": [
    {
     "name": "stdout",
     "output_type": "stream",
     "text": [
      "Enter number upto which you want the sum: 10\n",
      "55\n"
     ]
    }
   ],
   "source": [
    "num=int(input(\"Enter number upto which you want the sum: \"))\n",
    "sum=0\n",
    "for i in range(0,num+1):\n",
    "    sum+=i\n",
    "print(sum)"
   ]
  },
  {
   "cell_type": "code",
   "execution_count": null,
   "metadata": {},
   "outputs": [],
   "source": []
  }
 ],
 "metadata": {
  "kernelspec": {
   "display_name": "Python 3",
   "language": "python",
   "name": "python3"
  },
  "language_info": {
   "codemirror_mode": {
    "name": "ipython",
    "version": 3
   },
   "file_extension": ".py",
   "mimetype": "text/x-python",
   "name": "python",
   "nbconvert_exporter": "python",
   "pygments_lexer": "ipython3",
   "version": "3.7.6"
  }
 },
 "nbformat": 4,
 "nbformat_minor": 4
}
