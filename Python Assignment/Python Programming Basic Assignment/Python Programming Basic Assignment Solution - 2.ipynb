{
 "cells": [
  {
   "cell_type": "markdown",
   "metadata": {},
   "source": [
    "# Python Programming Basic Assignment Solution - 2"
   ]
  },
  {
   "cell_type": "code",
   "execution_count": null,
   "metadata": {},
   "outputs": [],
   "source": []
  },
  {
   "cell_type": "markdown",
   "metadata": {},
   "source": [
    "# 1. Write a Python program to convert kilometers to miles?"
   ]
  },
  {
   "cell_type": "code",
   "execution_count": 12,
   "metadata": {},
   "outputs": [
    {
     "name": "stdout",
     "output_type": "stream",
     "text": [
      "Enter the kilomiter: 8.7\n",
      "8.7 kilometer is equivalent to  5.4059276999999994 miles\n"
     ]
    }
   ],
   "source": [
    "k= float(input(\"Enter the kilomiter: \"))\n",
    "m= k*0.621371\n",
    "print(k, \"kilometer is equivalent to \", m ,\"miles\")"
   ]
  },
  {
   "cell_type": "code",
   "execution_count": null,
   "metadata": {},
   "outputs": [],
   "source": []
  },
  {
   "cell_type": "markdown",
   "metadata": {},
   "source": [
    "# 2. Write a Python program to convert Celsius to Fahrenheit?"
   ]
  },
  {
   "cell_type": "code",
   "execution_count": 13,
   "metadata": {},
   "outputs": [
    {
     "name": "stdout",
     "output_type": "stream",
     "text": [
      "Enter the temperature in °C : 0\n",
      "0.0 °C is equivalent to  32.0  °F\n"
     ]
    }
   ],
   "source": [
    "c= float(input(\"Enter the temperature in °C : \"))\n",
    "f= (c*9/5)+32\n",
    "print(c, \"°C is equivalent to \", f ,\" °F\")"
   ]
  },
  {
   "cell_type": "code",
   "execution_count": null,
   "metadata": {},
   "outputs": [],
   "source": []
  },
  {
   "cell_type": "markdown",
   "metadata": {},
   "source": [
    "# 3. Write a Python program to display calendar?"
   ]
  },
  {
   "cell_type": "code",
   "execution_count": 34,
   "metadata": {},
   "outputs": [
    {
     "name": "stdout",
     "output_type": "stream",
     "text": [
      "Enter the year: 2022\n",
      "Enter the month: 3\n",
      "     March 2022\n",
      "Mo Tu We Th Fr Sa Su\n",
      "    1  2  3  4  5  6\n",
      " 7  8  9 10 11 12 13\n",
      "14 15 16 17 18 19 20\n",
      "21 22 23 24 25 26 27\n",
      "28 29 30 31\n",
      "\n"
     ]
    }
   ],
   "source": [
    "import calendar\n",
    "yy=int(input(\"Enter the year: \"))\n",
    "mm=int(input(\"Enter the month: \"))\n",
    "print(calendar.month(yy,mm))"
   ]
  },
  {
   "cell_type": "code",
   "execution_count": null,
   "metadata": {},
   "outputs": [],
   "source": []
  },
  {
   "cell_type": "markdown",
   "metadata": {},
   "source": [
    "# 4. Write a Python program to solve quadratic equation?"
   ]
  },
  {
   "cell_type": "code",
   "execution_count": 10,
   "metadata": {},
   "outputs": [
    {
     "name": "stdout",
     "output_type": "stream",
     "text": [
      "Enter a : 1\n",
      "Enter b : -7\n",
      "Enter c : 12\n",
      "1.0\n",
      "Real and different two roots are : \n",
      "4.0\n",
      "3.0\n"
     ]
    }
   ],
   "source": [
    "#Quadratic equation in form of ax^2+bx+c=0\n",
    "import math\n",
    "a=float(input(\"Enter a : \"))\n",
    "b=float(input(\"Enter b : \"))\n",
    "c=float(input(\"Enter c : \"))\n",
    "\n",
    "D= (b*b)-(4*a*c)\n",
    "sqrt_val = math.sqrt(abs(D)) \n",
    "print(sqrt_val)\n",
    "if D>0:\n",
    "    print(\"Real and different two roots are : \")\n",
    "    print((-b+sqrt_val)/ (2*a))\n",
    "    print((-b-sqrt_val)/ (2*a))\n",
    "elif D==0:\n",
    "    print(\"Real and same two roots are : \")\n",
    "    print((-b)/ (2*a))\n",
    "    print((-b)/ (2*a))\n",
    "else:\n",
    "    print(\"Two complex roots are : \")\n",
    "    print( (-b/(2*a) , \"+i\", sqrt_val ) )\n",
    "    print( (-b/(2*a) , \"-i\", sqrt_val ) )"
   ]
  },
  {
   "cell_type": "code",
   "execution_count": null,
   "metadata": {},
   "outputs": [],
   "source": []
  },
  {
   "cell_type": "markdown",
   "metadata": {},
   "source": [
    "# 5. Write a Python program to swap two variables without temp variable?"
   ]
  },
  {
   "cell_type": "code",
   "execution_count": 20,
   "metadata": {},
   "outputs": [
    {
     "name": "stdout",
     "output_type": "stream",
     "text": [
      "Current value of a:  18 & the value of b:  5\n",
      "After swapping the value of a:  5 & the value of b:  18\n"
     ]
    }
   ],
   "source": [
    "a=18\n",
    "b=5\n",
    "print(\"Current value of a: \", a , \"& the value of b: \", b )\n",
    "a,b=b,a\n",
    "print(\"After swapping the value of a: \", a , \"& the value of b: \", b )"
   ]
  },
  {
   "cell_type": "code",
   "execution_count": null,
   "metadata": {},
   "outputs": [],
   "source": []
  }
 ],
 "metadata": {
  "kernelspec": {
   "display_name": "Python 3",
   "language": "python",
   "name": "python3"
  },
  "language_info": {
   "codemirror_mode": {
    "name": "ipython",
    "version": 3
   },
   "file_extension": ".py",
   "mimetype": "text/x-python",
   "name": "python",
   "nbconvert_exporter": "python",
   "pygments_lexer": "ipython3",
   "version": "3.7.6"
  }
 },
 "nbformat": 4,
 "nbformat_minor": 4
}
