{
 "cells": [
  {
   "cell_type": "markdown",
   "metadata": {},
   "source": [
    "# Python Programming Basic Assignment - 1"
   ]
  },
  {
   "cell_type": "markdown",
   "metadata": {},
   "source": [
    "# 1. Write a Python program to print \"Hello Python\"?"
   ]
  },
  {
   "cell_type": "code",
   "execution_count": 6,
   "metadata": {},
   "outputs": [
    {
     "name": "stdout",
     "output_type": "stream",
     "text": [
      "Hello Python\n"
     ]
    }
   ],
   "source": [
    "print('Hello Python')"
   ]
  },
  {
   "cell_type": "markdown",
   "metadata": {},
   "source": [
    "# 2. Write a Python program to do arithmetical operations addition and division.?"
   ]
  },
  {
   "cell_type": "code",
   "execution_count": 7,
   "metadata": {},
   "outputs": [],
   "source": [
    "#Defining two variable which holds some integer values\n",
    "a=20\n",
    "b=5"
   ]
  },
  {
   "cell_type": "code",
   "execution_count": 9,
   "metadata": {},
   "outputs": [
    {
     "name": "stdout",
     "output_type": "stream",
     "text": [
      "Addition of two given numbers :  25\n"
     ]
    }
   ],
   "source": [
    "print(\"Addition of two given numbers : \",a+b )"
   ]
  },
  {
   "cell_type": "code",
   "execution_count": 10,
   "metadata": {},
   "outputs": [
    {
     "name": "stdout",
     "output_type": "stream",
     "text": [
      "Division of two given numbers :  4.0\n"
     ]
    }
   ],
   "source": [
    "print(\"Division of two given numbers : \",a/b )"
   ]
  },
  {
   "cell_type": "markdown",
   "metadata": {},
   "source": [
    "# 3. Write a Python program to find the area of a triangle?"
   ]
  },
  {
   "cell_type": "code",
   "execution_count": 2,
   "metadata": {},
   "outputs": [
    {
     "name": "stdout",
     "output_type": "stream",
     "text": [
      "Enter the base of the triangle: 4\n",
      "Enter the height of the triangle: 9\n",
      "Area of the given Triangle is :  18.0\n"
     ]
    }
   ],
   "source": [
    "base= int(input(\"Enter the base of the triangle: \"))\n",
    "height= int(input(\"Enter the height of the triangle: \"))\n",
    "print (\"Area of the given Triangle is : \" , 1/2*base*height)"
   ]
  },
  {
   "cell_type": "markdown",
   "metadata": {},
   "source": [
    "# 4. Write a Python program to swap two variables?"
   ]
  },
  {
   "cell_type": "code",
   "execution_count": 17,
   "metadata": {},
   "outputs": [
    {
     "name": "stdout",
     "output_type": "stream",
     "text": [
      "Currently the values of a & b respectively :  20 5\n"
     ]
    }
   ],
   "source": [
    "#Defining two variable which holds some integer values\n",
    "a=20\n",
    "b=5\n",
    "print(\"Currently the values of a & b respectively : \",a , b )"
   ]
  },
  {
   "cell_type": "code",
   "execution_count": 18,
   "metadata": {},
   "outputs": [],
   "source": [
    "#Using one temp variable to hold the values\n",
    "temp=a\n",
    "a=b\n",
    "b=temp"
   ]
  },
  {
   "cell_type": "code",
   "execution_count": 19,
   "metadata": {},
   "outputs": [
    {
     "name": "stdout",
     "output_type": "stream",
     "text": [
      "Now the values of a & b respectively :  5 20\n"
     ]
    }
   ],
   "source": [
    "print(\"Now the values of a & b respectively : \",a , b )"
   ]
  },
  {
   "cell_type": "code",
   "execution_count": 23,
   "metadata": {},
   "outputs": [
    {
     "name": "stdout",
     "output_type": "stream",
     "text": [
      "Now the values of a & b respectively :  5 20\n"
     ]
    }
   ],
   "source": [
    "#Alternate solution in python for swapping the values of two integer\n",
    "a=20\n",
    "b=5\n",
    "a,b=b,a\n",
    "print(\"Now the values of a & b respectively : \",a , b )"
   ]
  },
  {
   "cell_type": "markdown",
   "metadata": {},
   "source": [
    "# 5. Write a Python program to generate a random number?"
   ]
  },
  {
   "cell_type": "code",
   "execution_count": 36,
   "metadata": {},
   "outputs": [
    {
     "name": "stdout",
     "output_type": "stream",
     "text": [
      "Random number:  7\n"
     ]
    }
   ],
   "source": [
    "#Importing random module and \n",
    "import random\n",
    "a= random.randint(2,10)\n",
    "print(\"Random number: \", a)"
   ]
  },
  {
   "cell_type": "code",
   "execution_count": null,
   "metadata": {},
   "outputs": [],
   "source": []
  }
 ],
 "metadata": {
  "kernelspec": {
   "display_name": "Python 3",
   "language": "python",
   "name": "python3"
  },
  "language_info": {
   "codemirror_mode": {
    "name": "ipython",
    "version": 3
   },
   "file_extension": ".py",
   "mimetype": "text/x-python",
   "name": "python",
   "nbconvert_exporter": "python",
   "pygments_lexer": "ipython3",
   "version": "3.7.6"
  }
 },
 "nbformat": 4,
 "nbformat_minor": 4
}
