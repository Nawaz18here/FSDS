{
 "cells": [
  {
   "cell_type": "markdown",
   "metadata": {},
   "source": [
    "# Python Basic Assignment Solution - 1"
   ]
  },
  {
   "cell_type": "code",
   "execution_count": null,
   "metadata": {},
   "outputs": [],
   "source": []
  },
  {
   "cell_type": "markdown",
   "metadata": {},
   "source": [
    "# 1. In the below elements which of them are values or an expression? eg:- values can be integer or string and expressions will be mathematical operators.\n",
    "\n",
    "# *   'hello'    -87.8   -      /     +\t    6 \n"
   ]
  },
  {
   "cell_type": "code",
   "execution_count": null,
   "metadata": {},
   "outputs": [],
   "source": []
  },
  {
   "cell_type": "markdown",
   "metadata": {},
   "source": [
    "* : ------------> Expression\n",
    "'hello' : ------------> Values\n",
    "-87.8 : ------------> Values\n",
    "- : ------------> Expression\n",
    "/ : ------------> Expression\n",
    "+ : ------------> Expression\n",
    "6 : ------------> Values"
   ]
  },
  {
   "cell_type": "markdown",
   "metadata": {},
   "source": [
    "# 2. What is the difference between string and variable?"
   ]
  },
  {
   "cell_type": "markdown",
   "metadata": {},
   "source": [
    "String: String is a datatype which is enclosed in a single quote or in double quote.\n",
    "    eg: \"python\"\n",
    "        \n",
    "Variable: Variable is something which can hold the value of any datatype.\n",
    "    eg: a= \"python\"\n",
    "    Here a is a variable which is holding value \"python\", if we call this a then it will automatically\n",
    "    show the value i.e \"python\""
   ]
  },
  {
   "cell_type": "code",
   "execution_count": null,
   "metadata": {},
   "outputs": [],
   "source": []
  },
  {
   "cell_type": "markdown",
   "metadata": {},
   "source": [
    "# 3. Describe three different data types."
   ]
  },
  {
   "cell_type": "markdown",
   "metadata": {},
   "source": [
    "Three different datatypes are as follows:\n",
    "\n",
    "    1. str: It is a string datatype which can be written in single or double quotes.\n",
    "       eg: \"luna\" is a string & type(\"luna\") will give str.\n",
    "    \n",
    "    2. int: If any number is written as an integer format, then the datatype for that will\n",
    "       be int type.\n",
    "       eg: 18 is a number in integer format and type (18) will show us int.\n",
    "    \n",
    "    3. float : If any number is written as floating point number 78.97 i.e with decimal format\n",
    "       , then the datatype of that will be float.\n",
    "       eg: type (7/8) will show us float\n",
    "\n",
    "Apart from that, there are some built-in datatypes in python:\n",
    "\n",
    "    1. List : List is a datatype in python which can be written as [\"hello\", 1, 2, 3, [24,48,72]]\n",
    "       \n",
    "    2. Tuple : Tuple is a datatype in python which can be written as  (1,4,6,\"okay\")\n",
    "    \n",
    "    3. Dict : Dict is another datatype in python which can be seen as key and value pair.\n",
    "       It can be written as d = {\"A\": \"India\", \"B\": \"Sri Lanka\", \"C\": \"Bangladesh\", \"D\":\"Pakistan\"}\n",
    "       Here A,B,C & D are the Keys and \"India\", \"Sri Lanka\", \"Bangladesh\", \"Pakistan\" are the values\n",
    "       resprectively."
   ]
  },
  {
   "cell_type": "code",
   "execution_count": null,
   "metadata": {},
   "outputs": [],
   "source": []
  },
  {
   "cell_type": "code",
   "execution_count": null,
   "metadata": {},
   "outputs": [],
   "source": []
  },
  {
   "cell_type": "markdown",
   "metadata": {},
   "source": [
    "# 4. What is an expression made up of? What do all expressions do?"
   ]
  },
  {
   "cell_type": "markdown",
   "metadata": {},
   "source": [
    "If we write numbers/variable with opearators in a well mannered format, then it is called Expression.\n",
    "\n",
    "It do some operation and show us the result if it is a valid expression, otherwise it will show some error\n",
    "\n",
    "eg: \n",
    "5/2+7 : Valid Expression\n",
    "45-8* : Invalid Expression\n",
    "    \n",
    "a=5, b=6\n",
    "a+b, which will show us the result 11 ( Valid Expression )"
   ]
  },
  {
   "cell_type": "code",
   "execution_count": 17,
   "metadata": {},
   "outputs": [
    {
     "data": {
      "text/plain": [
       "9.5"
      ]
     },
     "execution_count": 17,
     "metadata": {},
     "output_type": "execute_result"
    }
   ],
   "source": [
    "5/2+7"
   ]
  },
  {
   "cell_type": "code",
   "execution_count": 18,
   "metadata": {},
   "outputs": [
    {
     "ename": "SyntaxError",
     "evalue": "invalid syntax (<ipython-input-18-8e0eeeef235e>, line 1)",
     "output_type": "error",
     "traceback": [
      "\u001b[1;36m  File \u001b[1;32m\"<ipython-input-18-8e0eeeef235e>\"\u001b[1;36m, line \u001b[1;32m1\u001b[0m\n\u001b[1;33m    45-8*\u001b[0m\n\u001b[1;37m         ^\u001b[0m\n\u001b[1;31mSyntaxError\u001b[0m\u001b[1;31m:\u001b[0m invalid syntax\n"
     ]
    }
   ],
   "source": [
    "45-8*"
   ]
  },
  {
   "cell_type": "code",
   "execution_count": null,
   "metadata": {},
   "outputs": [],
   "source": []
  },
  {
   "cell_type": "markdown",
   "metadata": {},
   "source": [
    "# 5. This assignment statements, like spam = 10. What is the difference between an expression and a statement?"
   ]
  },
  {
   "cell_type": "markdown",
   "metadata": {},
   "source": [
    "Expression executes something, so here in this example spam=10 as a whole is expression.\n",
    "\n",
    "A statement is some instruction given to python interpreter.\n",
    "So when we call lets says print(spam), then it will show us the value of 10.\n",
    "\n",
    "Here that print(spam ) is a statement"
   ]
  },
  {
   "cell_type": "code",
   "execution_count": 25,
   "metadata": {},
   "outputs": [],
   "source": [
    "spam=10"
   ]
  },
  {
   "cell_type": "code",
   "execution_count": 26,
   "metadata": {},
   "outputs": [
    {
     "name": "stdout",
     "output_type": "stream",
     "text": [
      "10\n"
     ]
    }
   ],
   "source": [
    "print(spam)"
   ]
  },
  {
   "cell_type": "code",
   "execution_count": null,
   "metadata": {},
   "outputs": [],
   "source": []
  },
  {
   "cell_type": "markdown",
   "metadata": {},
   "source": [
    "# 6. After running the following code, what does the variable bacon contain?\n",
    "#bacon = 22\n",
    "#bacon + 1"
   ]
  },
  {
   "cell_type": "markdown",
   "metadata": {},
   "source": [
    "It will hold the incremented value of bacon, i.e 23"
   ]
  },
  {
   "cell_type": "code",
   "execution_count": 19,
   "metadata": {},
   "outputs": [],
   "source": [
    "bacon=22"
   ]
  },
  {
   "cell_type": "code",
   "execution_count": 20,
   "metadata": {},
   "outputs": [
    {
     "data": {
      "text/plain": [
       "22"
      ]
     },
     "execution_count": 20,
     "metadata": {},
     "output_type": "execute_result"
    }
   ],
   "source": [
    "bacon"
   ]
  },
  {
   "cell_type": "code",
   "execution_count": 21,
   "metadata": {},
   "outputs": [
    {
     "data": {
      "text/plain": [
       "23"
      ]
     },
     "execution_count": 21,
     "metadata": {},
     "output_type": "execute_result"
    }
   ],
   "source": [
    "bacon+1"
   ]
  },
  {
   "cell_type": "code",
   "execution_count": null,
   "metadata": {},
   "outputs": [],
   "source": []
  },
  {
   "cell_type": "markdown",
   "metadata": {},
   "source": [
    "# 7. What should the values of the following two terms be?\n",
    "'spam' + 'spamspam'\n",
    "\n",
    "'spam' * 3\n"
   ]
  },
  {
   "cell_type": "markdown",
   "metadata": {},
   "source": [
    "It will show the concatination of both the string in 1st example, because both od strings type\n",
    "'spam' +'spamspam' : 'spamspamspam'\n",
    "    \n",
    "In 2nd example: it will multiply the string i.e 'spam' three time and show us the result\n",
    "'spam'*3 : 'spamspamspam'\n"
   ]
  },
  {
   "cell_type": "code",
   "execution_count": 22,
   "metadata": {},
   "outputs": [
    {
     "data": {
      "text/plain": [
       "'spamspamspam'"
      ]
     },
     "execution_count": 22,
     "metadata": {},
     "output_type": "execute_result"
    }
   ],
   "source": [
    "'spam' +'spamspam' "
   ]
  },
  {
   "cell_type": "code",
   "execution_count": 23,
   "metadata": {},
   "outputs": [
    {
     "data": {
      "text/plain": [
       "'spamspamspam'"
      ]
     },
     "execution_count": 23,
     "metadata": {},
     "output_type": "execute_result"
    }
   ],
   "source": [
    "'spam'*3"
   ]
  },
  {
   "cell_type": "code",
   "execution_count": null,
   "metadata": {},
   "outputs": [],
   "source": []
  },
  {
   "cell_type": "markdown",
   "metadata": {},
   "source": [
    "# 8. Why is eggs a valid variable name while 100 is invalid?"
   ]
  },
  {
   "cell_type": "markdown",
   "metadata": {},
   "source": [
    "Because 100 is number which is a numeric datatype and we can not use any number as variable\n",
    "whereas on the otherhands, eggs can be used as variable name "
   ]
  },
  {
   "cell_type": "code",
   "execution_count": null,
   "metadata": {},
   "outputs": [],
   "source": []
  },
  {
   "cell_type": "markdown",
   "metadata": {},
   "source": [
    "# 9. What three functions can be used to get the integer, floating-point number, or string version of a value?"
   ]
  },
  {
   "cell_type": "markdown",
   "metadata": {},
   "source": [
    "We have in-built function in python\n",
    "a=99\n",
    "str(a)---> It will give the string version of a i.e '99'\n",
    "int(a)---> It will give the string version of a i.e 99\n",
    "float(a)---> It will give the floating point number of a i.e 99.0"
   ]
  },
  {
   "cell_type": "code",
   "execution_count": null,
   "metadata": {},
   "outputs": [],
   "source": []
  },
  {
   "cell_type": "markdown",
   "metadata": {},
   "source": [
    "# 10. Why does this expression cause an error? How can you fix it?\n",
    "'I have eaten ' + 99 + ' burritos.'"
   ]
  },
  {
   "cell_type": "markdown",
   "metadata": {},
   "source": [
    "Because as I can see, in this expression we are trying to add the string but in between there is number\n",
    "which is of numeric datatype.\n",
    "\n",
    "So, definitely it will give an error beacause for addition operation, datatypes must be same\n",
    "\n",
    "To fix this, we can convert that number into string format like this:"
   ]
  },
  {
   "cell_type": "code",
   "execution_count": 9,
   "metadata": {},
   "outputs": [
    {
     "data": {
      "text/plain": [
       "'I have eaten 99 burritos.'"
      ]
     },
     "execution_count": 9,
     "metadata": {},
     "output_type": "execute_result"
    }
   ],
   "source": [
    "'I have eaten ' + str(99) + ' burritos.'"
   ]
  },
  {
   "cell_type": "code",
   "execution_count": null,
   "metadata": {},
   "outputs": [],
   "source": []
  }
 ],
 "metadata": {
  "kernelspec": {
   "display_name": "Python 3",
   "language": "python",
   "name": "python3"
  },
  "language_info": {
   "codemirror_mode": {
    "name": "ipython",
    "version": 3
   },
   "file_extension": ".py",
   "mimetype": "text/x-python",
   "name": "python",
   "nbconvert_exporter": "python",
   "pygments_lexer": "ipython3",
   "version": "3.7.6"
  }
 },
 "nbformat": 4,
 "nbformat_minor": 4
}
